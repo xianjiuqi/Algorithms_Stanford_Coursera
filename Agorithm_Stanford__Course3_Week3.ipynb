{
  "nbformat": 4,
  "nbformat_minor": 0,
  "metadata": {
    "colab": {
      "name": "Agorithm_Stanford _Course3_Week3",
      "version": "0.3.2",
      "provenance": [],
      "include_colab_link": true
    },
    "kernelspec": {
      "name": "python3",
      "display_name": "Python 3"
    }
  },
  "cells": [
    {
      "cell_type": "markdown",
      "metadata": {
        "id": "view-in-github",
        "colab_type": "text"
      },
      "source": [
        "<a href=\"https://colab.research.google.com/github/xianjiuqi/Algorithms_Stanford_Coursera/blob/master/Agorithm_Stanford__Course3_Week3.ipynb\" target=\"_parent\"><img src=\"https://colab.research.google.com/assets/colab-badge.svg\" alt=\"Open In Colab\"/></a>"
      ]
    },
    {
      "cell_type": "code",
      "metadata": {
        "id": "znZ3cb7MVhyL",
        "colab_type": "code",
        "colab": {
          "base_uri": "https://localhost:8080/",
          "height": 33
        },
        "outputId": "d9a5662d-70f8-4623-b15a-2fe30da8d645"
      },
      "source": [
        "with open('week3_mwis.txt') as f:\n",
        "    a = [int(x) for x in f]\n",
        "\n",
        "a.pop(0)\n",
        "len(a)"
      ],
      "execution_count": 18,
      "outputs": [
        {
          "output_type": "execute_result",
          "data": {
            "text/plain": [
              "1000"
            ]
          },
          "metadata": {
            "tags": []
          },
          "execution_count": 18
        }
      ]
    },
    {
      "cell_type": "code",
      "metadata": {
        "id": "YsupMCbYcley",
        "colab_type": "code",
        "colab": {
          "base_uri": "https://localhost:8080/",
          "height": 33
        },
        "outputId": "7eaa7b76-4e78-4feb-be49-d8587cf1fc76"
      },
      "source": [
        "print(a[0:5])"
      ],
      "execution_count": 19,
      "outputs": [
        {
          "output_type": "stream",
          "text": [
            "[4962786, 6395702, 5601590, 3803402, 6784626]\n"
          ],
          "name": "stdout"
        }
      ]
    },
    {
      "cell_type": "code",
      "metadata": {
        "id": "AdTVnl8MWwAt",
        "colab_type": "code",
        "colab": {}
      },
      "source": [
        "DP = [None]*1000\n",
        "\n",
        "DP[0] = a[0]\n",
        "DP[1] = a[1]\n",
        "for i in range(2,1000):\n",
        "  DP[i] = max(DP[i-2] + a[i], DP[i-1])\n",
        "  \n",
        "\n",
        "  \n",
        "idx_list = [3, 4, 17, 117, 517, 997]\n",
        "\n"
      ],
      "execution_count": 0,
      "outputs": []
    },
    {
      "cell_type": "code",
      "metadata": {
        "id": "j19FBbkEa--b",
        "colab_type": "code",
        "colab": {}
      },
      "source": [
        "membership = [None]*1000\n",
        "i = 999\n",
        "while i>1:\n",
        "  if DP[i-2] + a[i] > DP[i-1]:\n",
        "    membership[i] = 1\n",
        "    membership[i-1]= 0\n",
        "    i= i-2\n",
        "    \n",
        "  else:\n",
        "    membership[i] = 0\n",
        "    i = i-1"
      ],
      "execution_count": 0,
      "outputs": []
    },
    {
      "cell_type": "code",
      "metadata": {
        "id": "xr-VselvbCbc",
        "colab_type": "code",
        "colab": {
          "base_uri": "https://localhost:8080/",
          "height": 117
        },
        "outputId": "4e67cd16-655f-4063-9a0d-8d3a0b86ddc0"
      },
      "source": [
        "for idx in idx_list:\n",
        "  print(membership[idx-1])"
      ],
      "execution_count": 23,
      "outputs": [
        {
          "output_type": "stream",
          "text": [
            "1\n",
            "0\n",
            "0\n",
            "1\n",
            "1\n",
            "0\n"
          ],
          "name": "stdout"
        }
      ]
    },
    {
      "cell_type": "code",
      "metadata": {
        "id": "w4I5D8vCcdP7",
        "colab_type": "code",
        "colab": {}
      },
      "source": [
        ""
      ],
      "execution_count": 0,
      "outputs": []
    }
  ]
}